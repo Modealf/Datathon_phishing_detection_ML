{
 "cells": [
  {
   "cell_type": "code",
   "execution_count": 5,
   "metadata": {},
   "outputs": [
    {
     "name": "stdout",
     "output_type": "stream",
     "text": [
      "Accuracy: 0.9623318385650225\n",
      "Classification Report:\n",
      "               precision    recall  f1-score   support\n",
      "\n",
      "           0       0.96      1.00      0.98       965\n",
      "           1       1.00      0.72      0.84       150\n",
      "\n",
      "    accuracy                           0.96      1115\n",
      "   macro avg       0.98      0.86      0.91      1115\n",
      "weighted avg       0.96      0.96      0.96      1115\n",
      "\n"
     ]
    }
   ],
   "source": [
    "import pandas as pd\n",
    "from sklearn.feature_extraction.text import TfidfVectorizer\n",
    "from sklearn.model_selection import train_test_split\n",
    "from sklearn.linear_model import LogisticRegression\n",
    "from sklearn.metrics import accuracy_score, classification_report\n",
    "\n",
    "# Load your dataset with the correct encoding\n",
    "data = pd.read_csv('spam.csv', encoding='ISO-8859-1')\n",
    "\n",
    "# Data preprocessing\n",
    "data['v1'] = data['v1'].map({'ham': 0, 'spam': 1})\n",
    "\n",
    "# Text preprocessing\n",
    "tfidf_vectorizer = TfidfVectorizer()\n",
    "X = tfidf_vectorizer.fit_transform(data['v2'])\n",
    "y = data['v1']\n",
    "\n",
    "# Split the dataset\n",
    "X_train, X_test, y_train, y_test = train_test_split(X, y, test_size=0.2, random_state=42)\n",
    "\n",
    "# Model building\n",
    "model = LogisticRegression()\n",
    "model.fit(X_train, y_train)\n",
    "\n",
    "# Model evaluation\n",
    "y_pred = model.predict(X_test)\n",
    "accuracy = accuracy_score(y_test, y_pred)\n",
    "report = classification_report(y_test, y_pred)\n",
    "\n",
    "print(\"Accuracy:\", accuracy)\n",
    "print(\"Classification Report:\\n\", report)\n"
   ]
  },
  {
   "cell_type": "code",
   "execution_count": 33,
   "metadata": {},
   "outputs": [
    {
     "name": "stdout",
     "output_type": "stream",
     "text": [
      "Classification Result: spam\n"
     ]
    }
   ],
   "source": [
    "# Function to classify text\n",
    "def classify_text(input_text):\n",
    "    # Preprocess the input text using the same TF-IDF vectorizer\n",
    "    input_text_transformed = tfidf_vectorizer.transform([input_text])\n",
    "    # Predict using the trained model\n",
    "    prediction = model.predict(input_text_transformed)\n",
    "    # Convert prediction label to 'spam' or 'ham'\n",
    "    result = 'spam' if prediction[0] == 1 else 'ham'\n",
    "    return result\n",
    "\n",
    "# Example usage\n",
    "input_text = \"Claim your prize now! You've won $1000000. Reply to claim.\"\n",
    "classification_result = classify_text(input_text)\n",
    "print(\"Classification Result:\", classification_result)"
   ]
  }
 ],
 "metadata": {
  "kernelspec": {
   "display_name": "Python 3",
   "language": "python",
   "name": "python3"
  },
  "language_info": {
   "codemirror_mode": {
    "name": "ipython",
    "version": 3
   },
   "file_extension": ".py",
   "mimetype": "text/x-python",
   "name": "python",
   "nbconvert_exporter": "python",
   "pygments_lexer": "ipython3",
   "version": "3.11.1"
  }
 },
 "nbformat": 4,
 "nbformat_minor": 2
}
